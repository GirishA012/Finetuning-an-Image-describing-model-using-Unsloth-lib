{
 "cells": [
  {
   "cell_type": "code",
   "execution_count": 1,
   "id": "6d66bca8",
   "metadata": {},
   "outputs": [
    {
     "name": "stdout",
     "output_type": "stream",
     "text": [
      "Collecting google-generativeai\n",
      "  Downloading google_generativeai-0.8.5-py3-none-any.whl.metadata (3.9 kB)\n",
      "Requirement already satisfied: python-dotenv in c:\\users\\47770057\\appdata\\local\\programs\\python\\python313\\lib\\site-packages (1.0.1)\n",
      "Requirement already satisfied: pandas in c:\\users\\47770057\\appdata\\local\\programs\\python\\python313\\lib\\site-packages (2.2.3)\n",
      "Requirement already satisfied: tqdm in c:\\users\\47770057\\appdata\\local\\programs\\python\\python313\\lib\\site-packages (4.67.1)\n",
      "Requirement already satisfied: pillow in c:\\users\\47770057\\appdata\\local\\programs\\python\\python313\\lib\\site-packages (11.0.0)\n",
      "Collecting google-ai-generativelanguage==0.6.15 (from google-generativeai)\n",
      "  Downloading google_ai_generativelanguage-0.6.15-py3-none-any.whl.metadata (5.7 kB)\n",
      "Collecting google-api-core (from google-generativeai)\n",
      "  Downloading google_api_core-2.24.2-py3-none-any.whl.metadata (3.0 kB)\n",
      "Collecting google-api-python-client (from google-generativeai)\n",
      "  Downloading google_api_python_client-2.168.0-py3-none-any.whl.metadata (6.7 kB)\n",
      "Collecting google-auth>=2.15.0 (from google-generativeai)\n",
      "  Downloading google_auth-2.39.0-py2.py3-none-any.whl.metadata (6.2 kB)\n",
      "Requirement already satisfied: protobuf in c:\\users\\47770057\\appdata\\local\\programs\\python\\python313\\lib\\site-packages (from google-generativeai) (5.29.3)\n",
      "Requirement already satisfied: pydantic in c:\\users\\47770057\\appdata\\local\\programs\\python\\python313\\lib\\site-packages (from google-generativeai) (2.10.6)\n",
      "Requirement already satisfied: typing-extensions in c:\\users\\47770057\\appdata\\local\\programs\\python\\python313\\lib\\site-packages (from google-generativeai) (4.12.2)\n",
      "Collecting google-api-core (from google-generativeai)\n",
      "  Downloading google_api_core-2.25.0rc0-py3-none-any.whl.metadata (3.0 kB)\n",
      "Collecting proto-plus<2.0.0dev,>=1.22.3 (from google-ai-generativelanguage==0.6.15->google-generativeai)\n",
      "  Downloading proto_plus-1.26.1-py3-none-any.whl.metadata (2.2 kB)\n",
      "Requirement already satisfied: numpy>=1.26.0 in c:\\users\\47770057\\appdata\\local\\programs\\python\\python313\\lib\\site-packages (from pandas) (2.1.3)\n",
      "Requirement already satisfied: python-dateutil>=2.8.2 in c:\\users\\47770057\\appdata\\local\\programs\\python\\python313\\lib\\site-packages (from pandas) (2.9.0.post0)\n",
      "Requirement already satisfied: pytz>=2020.1 in c:\\users\\47770057\\appdata\\local\\programs\\python\\python313\\lib\\site-packages (from pandas) (2024.2)\n",
      "Requirement already satisfied: tzdata>=2022.7 in c:\\users\\47770057\\appdata\\local\\programs\\python\\python313\\lib\\site-packages (from pandas) (2024.2)\n",
      "Requirement already satisfied: colorama in c:\\users\\47770057\\appdata\\local\\programs\\python\\python313\\lib\\site-packages (from tqdm) (0.4.6)\n",
      "Collecting googleapis-common-protos<2.0.0,>=1.56.2 (from google-api-core->google-generativeai)\n",
      "  Downloading googleapis_common_protos-1.70.0-py3-none-any.whl.metadata (9.3 kB)\n",
      "Requirement already satisfied: requests<3.0.0,>=2.18.0 in c:\\users\\47770057\\appdata\\local\\programs\\python\\python313\\lib\\site-packages (from google-api-core->google-generativeai) (2.32.3)\n",
      "Requirement already satisfied: cachetools<6.0,>=2.0.0 in c:\\users\\47770057\\appdata\\local\\programs\\python\\python313\\lib\\site-packages (from google-auth>=2.15.0->google-generativeai) (5.5.2)\n",
      "Collecting pyasn1-modules>=0.2.1 (from google-auth>=2.15.0->google-generativeai)\n",
      "  Using cached pyasn1_modules-0.4.2-py3-none-any.whl.metadata (3.5 kB)\n",
      "Collecting rsa<5,>=3.1.4 (from google-auth>=2.15.0->google-generativeai)\n",
      "  Downloading rsa-4.9.1-py3-none-any.whl.metadata (5.6 kB)\n",
      "Requirement already satisfied: six>=1.5 in c:\\users\\47770057\\appdata\\local\\programs\\python\\python313\\lib\\site-packages (from python-dateutil>=2.8.2->pandas) (1.16.0)\n",
      "Collecting httplib2<1.0.0,>=0.19.0 (from google-api-python-client->google-generativeai)\n",
      "  Downloading httplib2-0.22.0-py3-none-any.whl.metadata (2.6 kB)\n",
      "Collecting google-auth-httplib2<1.0.0,>=0.2.0 (from google-api-python-client->google-generativeai)\n",
      "  Downloading google_auth_httplib2-0.2.0-py2.py3-none-any.whl.metadata (2.2 kB)\n",
      "Collecting uritemplate<5,>=3.0.1 (from google-api-python-client->google-generativeai)\n",
      "  Downloading uritemplate-4.1.1-py2.py3-none-any.whl.metadata (2.9 kB)\n",
      "Requirement already satisfied: annotated-types>=0.6.0 in c:\\users\\47770057\\appdata\\local\\programs\\python\\python313\\lib\\site-packages (from pydantic->google-generativeai) (0.7.0)\n",
      "Requirement already satisfied: pydantic-core==2.27.2 in c:\\users\\47770057\\appdata\\local\\programs\\python\\python313\\lib\\site-packages (from pydantic->google-generativeai) (2.27.2)\n",
      "Collecting grpcio<2.0.0,>=1.33.2 (from google-api-core[grpc]!=2.0.*,!=2.1.*,!=2.10.*,!=2.2.*,!=2.3.*,!=2.4.*,!=2.5.*,!=2.6.*,!=2.7.*,!=2.8.*,!=2.9.*,<3.0.0dev,>=1.34.1->google-ai-generativelanguage==0.6.15->google-generativeai)\n",
      "  Using cached grpcio-1.71.0-cp313-cp313-win_amd64.whl.metadata (4.0 kB)\n",
      "Collecting grpcio-status<2.0.0,>=1.33.2 (from google-api-core[grpc]!=2.0.*,!=2.1.*,!=2.10.*,!=2.2.*,!=2.3.*,!=2.4.*,!=2.5.*,!=2.6.*,!=2.7.*,!=2.8.*,!=2.9.*,<3.0.0dev,>=1.34.1->google-ai-generativelanguage==0.6.15->google-generativeai)\n",
      "  Downloading grpcio_status-1.71.0-py3-none-any.whl.metadata (1.1 kB)\n",
      "Requirement already satisfied: pyparsing!=3.0.0,!=3.0.1,!=3.0.2,!=3.0.3,<4,>=2.4.2 in c:\\users\\47770057\\appdata\\local\\programs\\python\\python313\\lib\\site-packages (from httplib2<1.0.0,>=0.19.0->google-api-python-client->google-generativeai) (3.2.0)\n",
      "Requirement already satisfied: pyasn1<0.7.0,>=0.6.1 in c:\\users\\47770057\\appdata\\local\\programs\\python\\python313\\lib\\site-packages (from pyasn1-modules>=0.2.1->google-auth>=2.15.0->google-generativeai) (0.6.1)\n",
      "Requirement already satisfied: charset-normalizer<4,>=2 in c:\\users\\47770057\\appdata\\local\\programs\\python\\python313\\lib\\site-packages (from requests<3.0.0,>=2.18.0->google-api-core->google-generativeai) (3.4.0)\n",
      "Requirement already satisfied: idna<4,>=2.5 in c:\\users\\47770057\\appdata\\local\\programs\\python\\python313\\lib\\site-packages (from requests<3.0.0,>=2.18.0->google-api-core->google-generativeai) (3.10)\n",
      "Requirement already satisfied: urllib3<3,>=1.21.1 in c:\\users\\47770057\\appdata\\local\\programs\\python\\python313\\lib\\site-packages (from requests<3.0.0,>=2.18.0->google-api-core->google-generativeai) (2.3.0)\n",
      "Requirement already satisfied: certifi>=2017.4.17 in c:\\users\\47770057\\appdata\\local\\programs\\python\\python313\\lib\\site-packages (from requests<3.0.0,>=2.18.0->google-api-core->google-generativeai) (2025.1.31)\n",
      "Downloading google_generativeai-0.8.5-py3-none-any.whl (155 kB)\n",
      "Downloading google_ai_generativelanguage-0.6.15-py3-none-any.whl (1.3 MB)\n",
      "   ---------------------------------------- 0.0/1.3 MB ? eta -:--:--\n",
      "   ---------------------------------------- 1.3/1.3 MB 8.7 MB/s eta 0:00:00\n",
      "Downloading google_api_core-2.25.0rc0-py3-none-any.whl (160 kB)\n",
      "Downloading google_auth-2.39.0-py2.py3-none-any.whl (212 kB)\n",
      "Downloading google_api_python_client-2.168.0-py3-none-any.whl (13.3 MB)\n",
      "   ---------------------------------------- 0.0/13.3 MB ? eta -:--:--\n",
      "   ---- ----------------------------------- 1.6/13.3 MB 8.6 MB/s eta 0:00:02\n",
      "   --------- ------------------------------ 3.1/13.3 MB 7.6 MB/s eta 0:00:02\n",
      "   -------------- ------------------------- 4.7/13.3 MB 7.6 MB/s eta 0:00:02\n",
      "   ------------------- -------------------- 6.6/13.3 MB 8.1 MB/s eta 0:00:01\n",
      "   ----------------------- ---------------- 7.9/13.3 MB 7.6 MB/s eta 0:00:01\n",
      "   ----------------------------- ---------- 9.7/13.3 MB 7.9 MB/s eta 0:00:01\n",
      "   ----------------------------------- ---- 11.8/13.3 MB 8.2 MB/s eta 0:00:01\n",
      "   ---------------------------------------- 13.3/13.3 MB 8.1 MB/s eta 0:00:00\n",
      "Downloading google_auth_httplib2-0.2.0-py2.py3-none-any.whl (9.3 kB)\n",
      "Downloading googleapis_common_protos-1.70.0-py3-none-any.whl (294 kB)\n",
      "Downloading httplib2-0.22.0-py3-none-any.whl (96 kB)\n",
      "Downloading proto_plus-1.26.1-py3-none-any.whl (50 kB)\n",
      "Using cached pyasn1_modules-0.4.2-py3-none-any.whl (181 kB)\n",
      "Downloading rsa-4.9.1-py3-none-any.whl (34 kB)\n",
      "Downloading uritemplate-4.1.1-py2.py3-none-any.whl (10 kB)\n",
      "Using cached grpcio-1.71.0-cp313-cp313-win_amd64.whl (4.3 MB)\n",
      "Downloading grpcio_status-1.71.0-py3-none-any.whl (14 kB)\n",
      "Installing collected packages: uritemplate, rsa, pyasn1-modules, proto-plus, httplib2, grpcio, googleapis-common-protos, grpcio-status, google-auth, google-auth-httplib2, google-api-core, google-api-python-client, google-ai-generativelanguage, google-generativeai\n",
      "Successfully installed google-ai-generativelanguage-0.6.15 google-api-core-2.25.0rc0 google-api-python-client-2.168.0 google-auth-2.39.0 google-auth-httplib2-0.2.0 google-generativeai-0.8.5 googleapis-common-protos-1.70.0 grpcio-1.71.0 grpcio-status-1.71.0 httplib2-0.22.0 proto-plus-1.26.1 pyasn1-modules-0.4.2 rsa-4.9.1 uritemplate-4.1.1\n"
     ]
    },
    {
     "name": "stderr",
     "output_type": "stream",
     "text": [
      "\n",
      "[notice] A new release of pip is available: 25.0.1 -> 25.1\n",
      "[notice] To update, run: python.exe -m pip install --upgrade pip\n"
     ]
    }
   ],
   "source": [
    "\n",
    "!pip install google-generativeai python-dotenv pandas tqdm pillow\n"
   ]
  },
  {
   "cell_type": "code",
   "execution_count": 2,
   "id": "aa681571",
   "metadata": {},
   "outputs": [],
   "source": [
    "import os\n",
    "import time\n",
    "import json\n",
    "import pandas as pd\n",
    "import google.generativeai as genai\n",
    "from dotenv import load_dotenv\n",
    "from tqdm import tqdm\n",
    "from PIL import Image\n"
   ]
  },
  {
   "cell_type": "code",
   "execution_count": 3,
   "id": "0e3f4522",
   "metadata": {},
   "outputs": [],
   "source": [
    "\n",
    "load_dotenv()\n",
    "\n",
    "API_KEY = os.getenv('GEMINI_API_KEY')\n",
    "\n",
    "genai.configure(api_key=API_KEY)\n"
   ]
  },
  {
   "cell_type": "code",
   "execution_count": 4,
   "id": "52e28a54",
   "metadata": {},
   "outputs": [],
   "source": [
    "\n",
    "model = genai.GenerativeModel('gemini-1.5-flash')\n"
   ]
  },
  {
   "cell_type": "code",
   "execution_count": 5,
   "id": "c57362e8",
   "metadata": {},
   "outputs": [],
   "source": [
    "import base64\n",
    "from PIL import Image\n",
    "import io\n",
    "\n",
    "def load_image_for_gemini(image_path):\n",
    "    \"\"\"Load image and prepare it for Gemini API.\"\"\"\n",
    "    with open(image_path, \"rb\") as f:\n",
    "        image_data = f.read()\n",
    "    return image_data\n"
   ]
  },
  {
   "cell_type": "code",
   "execution_count": null,
   "id": "c9f4697b",
   "metadata": {},
   "outputs": [
    {
     "name": "stderr",
     "output_type": "stream",
     "text": [
      "100%|██████████| 122/122 [12:28<00:00,  6.14s/it]\n"
     ]
    }
   ],
   "source": [
    "import time\n",
    "import pandas as pd\n",
    "from tqdm import tqdm\n",
    "\n",
    "\n",
    "image_folder = r'C:\\Users\\47770057\\Desktop\\Final Attempt\\Anime Images'\n",
    "image_paths = [os.path.join(image_folder, img) for img in os.listdir(image_folder)]\n",
    "\n",
    "\n",
    "dataset = []\n",
    "\n",
    "\n",
    "def query_gemini(image_bytes):\n",
    "    \"\"\"Query Gemini with an image.\"\"\"\n",
    "    response = model.generate_content(\n",
    "        contents=[\n",
    "            {\n",
    "                \"mime_type\": \"image/jpeg\",\n",
    "                \"data\": base64.b64encode(image_bytes).decode(\"utf-8\"),\n",
    "            },\n",
    "            {\n",
    "                \"text\": \"\"\"Analyze the image.\n",
    "\n",
    "If it contains a SINGLE character, respond strictly in the following JSON format only (no extra explanation):\n",
    "\n",
    "{\n",
    "\t\"Age\": \"Young Adult\",\n",
    "\t\"Gender\": \"Female\",\n",
    "\t\"Ethnicity\": \"Asian\",\n",
    "\t\"Hair Style\": \"Ponytail\",\n",
    "\t\"Hair Color\": \"Black\",\n",
    "\t\"Hair Length\": \"Long\",\n",
    "\t\"Eye Color\": \"Brown\",\n",
    "\t\"Body Type\": \"Slim\",\n",
    "\t\"Dress\": \"Green Yukata\"\n",
    "}\n",
    "\n",
    "If the image contains MULTIPLE characters, respond only with: too many characters  \n",
    "If it contains NO characters, respond only with: no characters\"\"\"\n",
    "            }\n",
    "        ],\n",
    "        stream=False\n",
    "    )\n",
    "    return response.text.strip()\n",
    "\n",
    "# Start processing\n",
    "for img_path in tqdm(image_paths):\n",
    "    try:\n",
    "        # Load image\n",
    "        img_bytes = load_image_for_gemini(img_path)\n",
    "        \n",
    "        # Query Gemini\n",
    "        image_details = query_gemini(img_bytes)\n",
    "        \n",
    "        # Append to dataset\n",
    "        dataset.append({\n",
    "            \"image\": os.path.basename(img_path),\n",
    "            \"image_details\": image_details\n",
    "        })\n",
    "        \n",
    "        # Wait for 5 seconds\n",
    "        time.sleep(5)\n",
    "\n",
    "    except Exception as e:\n",
    "        print(f\"Error processing {img_path}: {str(e)}\")\n",
    "        continue\n",
    "\n",
    "\n",
    "df = pd.DataFrame(dataset)\n"
   ]
  },
  {
   "cell_type": "code",
   "execution_count": null,
   "id": "adadad3a",
   "metadata": {},
   "outputs": [
    {
     "name": "stdout",
     "output_type": "stream",
     "text": [
      "Dataset saved successfully!\n"
     ]
    }
   ],
   "source": [
    "\n",
    "df.to_csv('synthetic_image_dataset.csv', index=False)\n",
    "\n",
    "\n",
    "df.to_json('synthetic_image_dataset.jsonl', orient='records', lines=True)\n",
    "\n",
    "print(\"Dataset saved successfully!\")\n"
   ]
  },
  {
   "cell_type": "code",
   "execution_count": null,
   "id": "bc568036",
   "metadata": {},
   "outputs": [
    {
     "data": {
      "text/html": [
       "<a href='synthetic_image_dataset.csv' target='_blank'>synthetic_image_dataset.csv</a><br>"
      ],
      "text/plain": [
       "c:\\Users\\47770057\\Desktop\\Final Attempt\\synthetic_image_dataset.csv"
      ]
     },
     "execution_count": 14,
     "metadata": {},
     "output_type": "execute_result"
    }
   ],
   "source": [
    "from IPython.display import FileLink\n",
    "\n",
    "\n",
    "FileLink('synthetic_image_dataset.csv')\n"
   ]
  },
  {
   "cell_type": "code",
   "execution_count": null,
   "id": "269236e2",
   "metadata": {},
   "outputs": [
    {
     "name": "stdout",
     "output_type": "stream",
     "text": [
      "Cleaned dataset saved as 'cleaned_synthetic_image_dataset.csv'\n"
     ]
    }
   ],
   "source": [
    "import pandas as pd\n",
    "import re\n",
    "import json\n",
    "\n",
    "# Clean the dataset\n",
    "def clean_image_details(detail):\n",
    "    if not isinstance(detail, str):\n",
    "        return \"invalid format\"\n",
    "    \n",
    "    detail = detail.strip()\n",
    "\n",
    "    # Remove the ```json or similar formatting markers\n",
    "    detail = re.sub(r'```json|```|~~~json|~~~', '', detail).strip()\n",
    "\n",
    "    # Try parsing to ensure valid JSON and fix double quotes\n",
    "    try:\n",
    "        # Replace double double-quotes with single double-quotes\n",
    "        detail = re.sub(r'\"\"([^\"{}:,]+)\"\"', r'\"\\1\"', detail)\n",
    "        detail = re.sub(r\"'{2}([^'{}:,]+)'{2}\", r'\"\\1\"', detail)\n",
    "\n",
    "        # Convert the cleaned string to a JSON object and back to formatted string\n",
    "        parsed = json.loads(detail)\n",
    "        return json.dumps(parsed, indent=4)\n",
    "    except Exception as e:\n",
    "        return \"invalid format\"\n",
    "\n",
    "\n",
    "df = pd.read_csv(\"synthetic_image_dataset.csv\")\n",
    "\n",
    "\n",
    "df[\"image_details\"] = df[\"image_details\"].apply(clean_image_details)\n",
    "\n",
    "\n",
    "df = df[df[\"image_details\"] != \"invalid format\"]\n",
    "\n",
    "\n",
    "df.to_csv(\"cleaned_synthetic_image_dataset.csv\", index=False)\n",
    "print(\"Cleaned dataset saved as 'cleaned_synthetic_image_dataset.csv'\")\n"
   ]
  },
  {
   "cell_type": "code",
   "execution_count": 22,
   "id": "0f0c0988",
   "metadata": {},
   "outputs": [
    {
     "name": "stdout",
     "output_type": "stream",
     "text": [
      "Requirement already satisfied: pandas in c:\\users\\47770057\\appdata\\local\\programs\\python\\python313\\lib\\site-packages (2.2.3)\n",
      "Requirement already satisfied: opencv-python in c:\\users\\47770057\\appdata\\local\\programs\\python\\python313\\lib\\site-packages (4.11.0.86)\n",
      "Requirement already satisfied: numpy>=1.26.0 in c:\\users\\47770057\\appdata\\local\\programs\\python\\python313\\lib\\site-packages (from pandas) (2.1.3)\n",
      "Requirement already satisfied: python-dateutil>=2.8.2 in c:\\users\\47770057\\appdata\\local\\programs\\python\\python313\\lib\\site-packages (from pandas) (2.9.0.post0)\n",
      "Requirement already satisfied: pytz>=2020.1 in c:\\users\\47770057\\appdata\\local\\programs\\python\\python313\\lib\\site-packages (from pandas) (2024.2)\n",
      "Requirement already satisfied: tzdata>=2022.7 in c:\\users\\47770057\\appdata\\local\\programs\\python\\python313\\lib\\site-packages (from pandas) (2024.2)\n",
      "Requirement already satisfied: six>=1.5 in c:\\users\\47770057\\appdata\\local\\programs\\python\\python313\\lib\\site-packages (from python-dateutil>=2.8.2->pandas) (1.16.0)\n"
     ]
    },
    {
     "name": "stderr",
     "output_type": "stream",
     "text": [
      "\n",
      "[notice] A new release of pip is available: 25.0.1 -> 25.1\n",
      "[notice] To update, run: python.exe -m pip install --upgrade pip\n"
     ]
    }
   ],
   "source": [
    "!pip install pandas opencv-python\n"
   ]
  },
  {
   "cell_type": "code",
   "execution_count": null,
   "id": "9cb5d0d0",
   "metadata": {},
   "outputs": [
    {
     "name": "stderr",
     "output_type": "stream",
     "text": [
      "100%|██████████| 84/84 [00:01<00:00, 79.79it/s]"
     ]
    },
    {
     "name": "stdout",
     "output_type": "stream",
     "text": [
      "Augmented dataset saved to augmented_synthetic_image_dataset.csv\n"
     ]
    },
    {
     "name": "stderr",
     "output_type": "stream",
     "text": [
      "\n"
     ]
    }
   ],
   "source": [
    "import pandas as pd\n",
    "import cv2\n",
    "import os\n",
    "import uuid\n",
    "from tqdm import tqdm\n",
    "\n",
    "\n",
    "image_folder = r\"C:\\Users\\47770057\\Desktop\\Final Attempt\\Anime Images\"\n",
    "input_csv = r\"C:\\Users\\47770057\\Desktop\\Final Attempt\\cleaned_synthetic_image_dataset.csv\"\n",
    "output_csv = \"augmented_synthetic_image_dataset.csv\"\n",
    "\n",
    "\n",
    "df = pd.read_csv(\"cleaned_synthetic_image_dataset.csv\")\n",
    "\n",
    "\n",
    "augmented_data = []\n",
    "\n",
    "# Define simple augmentations using OpenCV\n",
    "def augment_image(image):\n",
    "    return [\n",
    "        cv2.flip(image, 1),  # Horizontal flip\n",
    "        cv2.rotate(image, cv2.ROTATE_90_CLOCKWISE),  # Rotate 90 deg\n",
    "        cv2.rotate(image, cv2.ROTATE_90_COUNTERCLOCKWISE),  # Rotate -90 deg\n",
    "        cv2.GaussianBlur(image, (5, 5), 0),  # Blurring\n",
    "        cv2.convertScaleAbs(image, alpha=1.2, beta=30)  # Brightness/contrast\n",
    "    ]\n",
    "\n",
    "# Iterate and augment\n",
    "for _, row in tqdm(df.iterrows(), total=len(df)):\n",
    "    original_image = row[\"image\"]\n",
    "    image_path = os.path.join(image_folder, original_image)\n",
    "\n",
    "    if not os.path.isfile(image_path):\n",
    "        print(f\"Image not found: {image_path}\")\n",
    "        continue\n",
    "\n",
    "    img = cv2.imread(image_path)\n",
    "\n",
    "    if img is None:\n",
    "        print(f\"Failed to read: {image_path}\")\n",
    "        continue\n",
    "\n",
    "    # Perform augmentations\n",
    "    augmented_imgs = augment_image(img)\n",
    "\n",
    "    for idx, aug_img in enumerate(augmented_imgs):\n",
    "        new_filename = f\"{os.path.splitext(original_image)[0]}_aug{idx+1}.jpg\"\n",
    "        new_path = os.path.join(image_folder, new_filename)\n",
    "        cv2.imwrite(new_path, aug_img)\n",
    "\n",
    "        # Add new entry to augmented data\n",
    "        augmented_data.append({\n",
    "            \"image\": new_filename,\n",
    "            \"image_details\": row[\"image_details\"]\n",
    "        })\n",
    "\n",
    "\n",
    "augmented_df = pd.DataFrame(augmented_data)\n",
    "\n",
    "# Combine original and augmented datasets\n",
    "final_df = pd.concat([df, augmented_df], ignore_index=True)\n",
    "\n",
    "# Save to new CSV\n",
    "final_df.to_csv(output_csv, index=False)\n",
    "print(f\"Augmented dataset saved to {output_csv}\")\n"
   ]
  },
  {
   "cell_type": "code",
   "execution_count": null,
   "id": "34af401f",
   "metadata": {},
   "outputs": [],
   "source": []
  }
 ],
 "metadata": {
  "kernelspec": {
   "display_name": "Python 3",
   "language": "python",
   "name": "python3"
  },
  "language_info": {
   "codemirror_mode": {
    "name": "ipython",
    "version": 3
   },
   "file_extension": ".py",
   "mimetype": "text/x-python",
   "name": "python",
   "nbconvert_exporter": "python",
   "pygments_lexer": "ipython3",
   "version": "3.13.0"
  }
 },
 "nbformat": 4,
 "nbformat_minor": 5
}
